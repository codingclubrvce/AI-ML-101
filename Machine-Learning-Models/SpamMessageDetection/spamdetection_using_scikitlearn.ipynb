{
 "cells": [
  {
   "cell_type": "markdown",
   "metadata": {},
   "source": [
    "# Spam Message Detection\n",
    "In this project spam messages are detected using Scikit-learn's SVM model. Dataset used in this project is kaggle's [SMS Spam Collection Dataset](https://www.kaggle.com/datasets/uciml/sms-spam-collection-dataset/data)."
   ]
  },
  {
   "cell_type": "code",
   "execution_count": 1,
   "metadata": {},
   "outputs": [],
   "source": [
    "import numpy as np\n",
    "import pandas as pd\n",
    "import matplotlib.pyplot as plt\n",
    "\n",
    "from sklearn.model_selection import train_test_split\n",
    "from sklearn.feature_extraction.text import TfidfVectorizer\n",
    "from sklearn.pipeline import Pipeline\n",
    "from sklearn.svm import SVC\n",
    "from sklearn.metrics import classification_report,accuracy_score\n",
    "from sklearn.model_selection import GridSearchCV\n",
    "from sklearn.metrics import confusion_matrix, ConfusionMatrixDisplay"
   ]
  },
  {
   "cell_type": "code",
   "execution_count": 2,
   "metadata": {},
   "outputs": [],
   "source": [
    "# loading the dataset\n",
    "df = pd.read_csv('spam.csv', encoding='ISO-8859-1') "
   ]
  },
  {
   "cell_type": "code",
   "execution_count": 3,
   "metadata": {},
   "outputs": [
    {
     "data": {
      "text/plain": [
       "<bound method DataFrame.info of         v1                                                 v2 Unnamed: 2  \\\n",
       "0      ham  Go until jurong point, crazy.. Available only ...        NaN   \n",
       "1      ham                      Ok lar... Joking wif u oni...        NaN   \n",
       "2     spam  Free entry in 2 a wkly comp to win FA Cup fina...        NaN   \n",
       "3      ham  U dun say so early hor... U c already then say...        NaN   \n",
       "4      ham  Nah I don't think he goes to usf, he lives aro...        NaN   \n",
       "...    ...                                                ...        ...   \n",
       "5567  spam  This is the 2nd time we have tried 2 contact u...        NaN   \n",
       "5568   ham              Will Ì_ b going to esplanade fr home?        NaN   \n",
       "5569   ham  Pity, * was in mood for that. So...any other s...        NaN   \n",
       "5570   ham  The guy did some bitching but I acted like i'd...        NaN   \n",
       "5571   ham                         Rofl. Its true to its name        NaN   \n",
       "\n",
       "     Unnamed: 3 Unnamed: 4  \n",
       "0           NaN        NaN  \n",
       "1           NaN        NaN  \n",
       "2           NaN        NaN  \n",
       "3           NaN        NaN  \n",
       "4           NaN        NaN  \n",
       "...         ...        ...  \n",
       "5567        NaN        NaN  \n",
       "5568        NaN        NaN  \n",
       "5569        NaN        NaN  \n",
       "5570        NaN        NaN  \n",
       "5571        NaN        NaN  \n",
       "\n",
       "[5572 rows x 5 columns]>"
      ]
     },
     "execution_count": 3,
     "metadata": {},
     "output_type": "execute_result"
    }
   ],
   "source": [
    "# information regarding the dataframe\n",
    "df.info "
   ]
  },
  {
   "cell_type": "code",
   "execution_count": 4,
   "metadata": {},
   "outputs": [
    {
     "data": {
      "text/plain": [
       "(5572, 5)"
      ]
     },
     "execution_count": 4,
     "metadata": {},
     "output_type": "execute_result"
    }
   ],
   "source": [
    "# gives number of rows and columns in the dataframe\n",
    "df.shape "
   ]
  },
  {
   "cell_type": "code",
   "execution_count": 5,
   "metadata": {},
   "outputs": [],
   "source": [
    "# extracting only first two columns named v1 and v2\n",
    "df = df[['v1','v2']] "
   ]
  },
  {
   "cell_type": "code",
   "execution_count": 6,
   "metadata": {},
   "outputs": [
    {
     "data": {
      "text/html": [
       "<div>\n",
       "<style scoped>\n",
       "    .dataframe tbody tr th:only-of-type {\n",
       "        vertical-align: middle;\n",
       "    }\n",
       "\n",
       "    .dataframe tbody tr th {\n",
       "        vertical-align: top;\n",
       "    }\n",
       "\n",
       "    .dataframe thead th {\n",
       "        text-align: right;\n",
       "    }\n",
       "</style>\n",
       "<table border=\"1\" class=\"dataframe\">\n",
       "  <thead>\n",
       "    <tr style=\"text-align: right;\">\n",
       "      <th></th>\n",
       "      <th>v1</th>\n",
       "      <th>v2</th>\n",
       "    </tr>\n",
       "  </thead>\n",
       "  <tbody>\n",
       "    <tr>\n",
       "      <th>0</th>\n",
       "      <td>ham</td>\n",
       "      <td>Go until jurong point, crazy.. Available only ...</td>\n",
       "    </tr>\n",
       "    <tr>\n",
       "      <th>1</th>\n",
       "      <td>ham</td>\n",
       "      <td>Ok lar... Joking wif u oni...</td>\n",
       "    </tr>\n",
       "    <tr>\n",
       "      <th>2</th>\n",
       "      <td>spam</td>\n",
       "      <td>Free entry in 2 a wkly comp to win FA Cup fina...</td>\n",
       "    </tr>\n",
       "    <tr>\n",
       "      <th>3</th>\n",
       "      <td>ham</td>\n",
       "      <td>U dun say so early hor... U c already then say...</td>\n",
       "    </tr>\n",
       "    <tr>\n",
       "      <th>4</th>\n",
       "      <td>ham</td>\n",
       "      <td>Nah I don't think he goes to usf, he lives aro...</td>\n",
       "    </tr>\n",
       "  </tbody>\n",
       "</table>\n",
       "</div>"
      ],
      "text/plain": [
       "     v1                                                 v2\n",
       "0   ham  Go until jurong point, crazy.. Available only ...\n",
       "1   ham                      Ok lar... Joking wif u oni...\n",
       "2  spam  Free entry in 2 a wkly comp to win FA Cup fina...\n",
       "3   ham  U dun say so early hor... U c already then say...\n",
       "4   ham  Nah I don't think he goes to usf, he lives aro..."
      ]
     },
     "execution_count": 6,
     "metadata": {},
     "output_type": "execute_result"
    }
   ],
   "source": [
    "df.head(5)"
   ]
  },
  {
   "cell_type": "code",
   "execution_count": 7,
   "metadata": {},
   "outputs": [],
   "source": [
    "# renaming columns of the dataframe\n",
    "df.columns = [\"label\",\"text\"] "
   ]
  },
  {
   "cell_type": "code",
   "execution_count": 8,
   "metadata": {},
   "outputs": [
    {
     "data": {
      "text/html": [
       "<div>\n",
       "<style scoped>\n",
       "    .dataframe tbody tr th:only-of-type {\n",
       "        vertical-align: middle;\n",
       "    }\n",
       "\n",
       "    .dataframe tbody tr th {\n",
       "        vertical-align: top;\n",
       "    }\n",
       "\n",
       "    .dataframe thead th {\n",
       "        text-align: right;\n",
       "    }\n",
       "</style>\n",
       "<table border=\"1\" class=\"dataframe\">\n",
       "  <thead>\n",
       "    <tr style=\"text-align: right;\">\n",
       "      <th></th>\n",
       "      <th>label</th>\n",
       "      <th>text</th>\n",
       "    </tr>\n",
       "  </thead>\n",
       "  <tbody>\n",
       "    <tr>\n",
       "      <th>0</th>\n",
       "      <td>ham</td>\n",
       "      <td>Go until jurong point, crazy.. Available only ...</td>\n",
       "    </tr>\n",
       "    <tr>\n",
       "      <th>1</th>\n",
       "      <td>ham</td>\n",
       "      <td>Ok lar... Joking wif u oni...</td>\n",
       "    </tr>\n",
       "    <tr>\n",
       "      <th>2</th>\n",
       "      <td>spam</td>\n",
       "      <td>Free entry in 2 a wkly comp to win FA Cup fina...</td>\n",
       "    </tr>\n",
       "    <tr>\n",
       "      <th>3</th>\n",
       "      <td>ham</td>\n",
       "      <td>U dun say so early hor... U c already then say...</td>\n",
       "    </tr>\n",
       "    <tr>\n",
       "      <th>4</th>\n",
       "      <td>ham</td>\n",
       "      <td>Nah I don't think he goes to usf, he lives aro...</td>\n",
       "    </tr>\n",
       "  </tbody>\n",
       "</table>\n",
       "</div>"
      ],
      "text/plain": [
       "  label                                               text\n",
       "0   ham  Go until jurong point, crazy.. Available only ...\n",
       "1   ham                      Ok lar... Joking wif u oni...\n",
       "2  spam  Free entry in 2 a wkly comp to win FA Cup fina...\n",
       "3   ham  U dun say so early hor... U c already then say...\n",
       "4   ham  Nah I don't think he goes to usf, he lives aro..."
      ]
     },
     "execution_count": 8,
     "metadata": {},
     "output_type": "execute_result"
    }
   ],
   "source": [
    "df.head(5)"
   ]
  },
  {
   "cell_type": "code",
   "execution_count": 9,
   "metadata": {},
   "outputs": [
    {
     "data": {
      "text/plain": [
       "403"
      ]
     },
     "execution_count": 9,
     "metadata": {},
     "output_type": "execute_result"
    }
   ],
   "source": [
    "# number of duplicate rows\n",
    "df.duplicated().sum() "
   ]
  },
  {
   "cell_type": "code",
   "execution_count": 10,
   "metadata": {},
   "outputs": [
    {
     "name": "stderr",
     "output_type": "stream",
     "text": [
      "C:\\Users\\Akhil Reddy N\\AppData\\Local\\Temp\\ipykernel_1308\\3848929746.py:2: SettingWithCopyWarning: \n",
      "A value is trying to be set on a copy of a slice from a DataFrame\n",
      "\n",
      "See the caveats in the documentation: https://pandas.pydata.org/pandas-docs/stable/user_guide/indexing.html#returning-a-view-versus-a-copy\n",
      "  df.drop_duplicates(inplace=True)\n"
     ]
    }
   ],
   "source": [
    "# removing duplicate rows\n",
    "df.drop_duplicates(inplace=True) "
   ]
  },
  {
   "cell_type": "code",
   "execution_count": 11,
   "metadata": {},
   "outputs": [
    {
     "data": {
      "text/html": [
       "<div>\n",
       "<style scoped>\n",
       "    .dataframe tbody tr th:only-of-type {\n",
       "        vertical-align: middle;\n",
       "    }\n",
       "\n",
       "    .dataframe tbody tr th {\n",
       "        vertical-align: top;\n",
       "    }\n",
       "\n",
       "    .dataframe thead th {\n",
       "        text-align: right;\n",
       "    }\n",
       "</style>\n",
       "<table border=\"1\" class=\"dataframe\">\n",
       "  <thead>\n",
       "    <tr style=\"text-align: right;\">\n",
       "      <th></th>\n",
       "      <th>label</th>\n",
       "      <th>text</th>\n",
       "    </tr>\n",
       "  </thead>\n",
       "  <tbody>\n",
       "    <tr>\n",
       "      <th>count</th>\n",
       "      <td>5169</td>\n",
       "      <td>5169</td>\n",
       "    </tr>\n",
       "    <tr>\n",
       "      <th>unique</th>\n",
       "      <td>2</td>\n",
       "      <td>5169</td>\n",
       "    </tr>\n",
       "    <tr>\n",
       "      <th>top</th>\n",
       "      <td>ham</td>\n",
       "      <td>Go until jurong point, crazy.. Available only ...</td>\n",
       "    </tr>\n",
       "    <tr>\n",
       "      <th>freq</th>\n",
       "      <td>4516</td>\n",
       "      <td>1</td>\n",
       "    </tr>\n",
       "  </tbody>\n",
       "</table>\n",
       "</div>"
      ],
      "text/plain": [
       "       label                                               text\n",
       "count   5169                                               5169\n",
       "unique     2                                               5169\n",
       "top      ham  Go until jurong point, crazy.. Available only ...\n",
       "freq    4516                                                  1"
      ]
     },
     "execution_count": 11,
     "metadata": {},
     "output_type": "execute_result"
    }
   ],
   "source": [
    "df.describe()"
   ]
  },
  {
   "cell_type": "code",
   "execution_count": 12,
   "metadata": {},
   "outputs": [
    {
     "data": {
      "text/plain": [
       "label\n",
       "ham     4516\n",
       "spam     653\n",
       "Name: count, dtype: int64"
      ]
     },
     "execution_count": 12,
     "metadata": {},
     "output_type": "execute_result"
    }
   ],
   "source": [
    "# number of rows under each class\n",
    "df['label'].value_counts() "
   ]
  },
  {
   "cell_type": "code",
   "execution_count": 13,
   "metadata": {},
   "outputs": [
    {
     "name": "stderr",
     "output_type": "stream",
     "text": [
      "C:\\Users\\Akhil Reddy N\\AppData\\Local\\Temp\\ipykernel_1308\\4000033866.py:2: SettingWithCopyWarning: \n",
      "A value is trying to be set on a copy of a slice from a DataFrame.\n",
      "Try using .loc[row_indexer,col_indexer] = value instead\n",
      "\n",
      "See the caveats in the documentation: https://pandas.pydata.org/pandas-docs/stable/user_guide/indexing.html#returning-a-view-versus-a-copy\n",
      "  df['label'] = df['label'].map({'ham':0,'spam':1})\n"
     ]
    }
   ],
   "source": [
    "# mapping spam to 1 and not spam to 0\n",
    "df['label'] = df['label'].map({'ham':0,'spam':1}) "
   ]
  },
  {
   "cell_type": "code",
   "execution_count": 14,
   "metadata": {},
   "outputs": [
    {
     "data": {
      "text/html": [
       "<div>\n",
       "<style scoped>\n",
       "    .dataframe tbody tr th:only-of-type {\n",
       "        vertical-align: middle;\n",
       "    }\n",
       "\n",
       "    .dataframe tbody tr th {\n",
       "        vertical-align: top;\n",
       "    }\n",
       "\n",
       "    .dataframe thead th {\n",
       "        text-align: right;\n",
       "    }\n",
       "</style>\n",
       "<table border=\"1\" class=\"dataframe\">\n",
       "  <thead>\n",
       "    <tr style=\"text-align: right;\">\n",
       "      <th></th>\n",
       "      <th>label</th>\n",
       "      <th>text</th>\n",
       "    </tr>\n",
       "  </thead>\n",
       "  <tbody>\n",
       "    <tr>\n",
       "      <th>0</th>\n",
       "      <td>0</td>\n",
       "      <td>Go until jurong point, crazy.. Available only ...</td>\n",
       "    </tr>\n",
       "    <tr>\n",
       "      <th>1</th>\n",
       "      <td>0</td>\n",
       "      <td>Ok lar... Joking wif u oni...</td>\n",
       "    </tr>\n",
       "    <tr>\n",
       "      <th>2</th>\n",
       "      <td>1</td>\n",
       "      <td>Free entry in 2 a wkly comp to win FA Cup fina...</td>\n",
       "    </tr>\n",
       "    <tr>\n",
       "      <th>3</th>\n",
       "      <td>0</td>\n",
       "      <td>U dun say so early hor... U c already then say...</td>\n",
       "    </tr>\n",
       "    <tr>\n",
       "      <th>4</th>\n",
       "      <td>0</td>\n",
       "      <td>Nah I don't think he goes to usf, he lives aro...</td>\n",
       "    </tr>\n",
       "  </tbody>\n",
       "</table>\n",
       "</div>"
      ],
      "text/plain": [
       "   label                                               text\n",
       "0      0  Go until jurong point, crazy.. Available only ...\n",
       "1      0                      Ok lar... Joking wif u oni...\n",
       "2      1  Free entry in 2 a wkly comp to win FA Cup fina...\n",
       "3      0  U dun say so early hor... U c already then say...\n",
       "4      0  Nah I don't think he goes to usf, he lives aro..."
      ]
     },
     "execution_count": 14,
     "metadata": {},
     "output_type": "execute_result"
    }
   ],
   "source": [
    "df.head(5)"
   ]
  },
  {
   "cell_type": "code",
   "execution_count": 15,
   "metadata": {},
   "outputs": [
    {
     "name": "stdout",
     "output_type": "stream",
     "text": [
      "Go until jurong point, crazy.. Available only in bugis n great world la e buffet... Cine there got amore wat...\n"
     ]
    }
   ],
   "source": [
    "print(df['text'][0])"
   ]
  },
  {
   "cell_type": "code",
   "execution_count": 16,
   "metadata": {},
   "outputs": [],
   "source": [
    "X = df['text']\n",
    "y = df['label']"
   ]
  },
  {
   "cell_type": "code",
   "execution_count": 17,
   "metadata": {},
   "outputs": [],
   "source": [
    "\n",
    "# Splitting the dataset in test dataset and train dataset\n",
    "# test dataset contains 20% of the dataset and train dataset contains 80%\n",
    "# stratify splits the dataset in a such a way that preserves the same proportions of examples in each class as observed in the original dataset.\n",
    "X_train, X_test, y_train, y_test = train_test_split(X, y, test_size=0.2, stratify=y, random_state=10,shuffle=True) "
   ]
  },
  {
   "cell_type": "code",
   "execution_count": 18,
   "metadata": {},
   "outputs": [],
   "source": [
    "# Hyperparameter tuning using gridsearchcv\n",
    "# Model used for classification is SVM classifier\n",
    "# defining parameter range \n",
    "param_grid = {'C': [0.1, 1, 10, 100],  \n",
    "              'gamma': [1, 0.1, 0.01, 0.001], \n",
    "              'kernel': ['rbf','linear'],\n",
    "              'degree': [2,3,4]}  \n",
    "  \n",
    "grid = GridSearchCV(SVC(), param_grid, refit = True, verbose = 3)"
   ]
  },
  {
   "cell_type": "code",
   "execution_count": 19,
   "metadata": {},
   "outputs": [],
   "source": [
    "estimators = [\n",
    "    ('encoder',TfidfVectorizer()), \n",
    "    ('clf',grid)\n",
    "]"
   ]
  },
  {
   "cell_type": "code",
   "execution_count": 20,
   "metadata": {},
   "outputs": [],
   "source": [
    "# Creating a pipeline\n",
    "pipe = Pipeline(steps=estimators)"
   ]
  },
  {
   "cell_type": "code",
   "execution_count": 21,
   "metadata": {},
   "outputs": [
    {
     "name": "stdout",
     "output_type": "stream",
     "text": [
      "Fitting 5 folds for each of 96 candidates, totalling 480 fits\n"
     ]
    },
    {
     "name": "stdout",
     "output_type": "stream",
     "text": [
      "[CV 1/5] END C=0.1, degree=2, gamma=1, kernel=rbf;, score=0.873 total time=   0.7s\n",
      "[CV 2/5] END C=0.1, degree=2, gamma=1, kernel=rbf;, score=0.873 total time=   0.6s\n",
      "[CV 3/5] END C=0.1, degree=2, gamma=1, kernel=rbf;, score=0.874 total time=   0.6s\n",
      "[CV 4/5] END C=0.1, degree=2, gamma=1, kernel=rbf;, score=0.874 total time=   0.6s\n",
      "[CV 5/5] END C=0.1, degree=2, gamma=1, kernel=rbf;, score=0.874 total time=   0.7s\n",
      "[CV 1/5] END C=0.1, degree=2, gamma=1, kernel=linear;, score=0.915 total time=   0.4s\n",
      "[CV 2/5] END C=0.1, degree=2, gamma=1, kernel=linear;, score=0.908 total time=   0.4s\n",
      "[CV 3/5] END C=0.1, degree=2, gamma=1, kernel=linear;, score=0.907 total time=   0.4s\n",
      "[CV 4/5] END C=0.1, degree=2, gamma=1, kernel=linear;, score=0.909 total time=   0.4s\n",
      "[CV 5/5] END C=0.1, degree=2, gamma=1, kernel=linear;, score=0.918 total time=   0.4s\n",
      "[CV 1/5] END C=0.1, degree=2, gamma=0.1, kernel=rbf;, score=0.873 total time=   0.4s\n",
      "[CV 2/5] END C=0.1, degree=2, gamma=0.1, kernel=rbf;, score=0.873 total time=   0.4s\n",
      "[CV 3/5] END C=0.1, degree=2, gamma=0.1, kernel=rbf;, score=0.874 total time=   0.4s\n",
      "[CV 4/5] END C=0.1, degree=2, gamma=0.1, kernel=rbf;, score=0.874 total time=   0.4s\n",
      "[CV 5/5] END C=0.1, degree=2, gamma=0.1, kernel=rbf;, score=0.874 total time=   0.4s\n",
      "[CV 1/5] END C=0.1, degree=2, gamma=0.1, kernel=linear;, score=0.915 total time=   0.4s\n",
      "[CV 2/5] END C=0.1, degree=2, gamma=0.1, kernel=linear;, score=0.908 total time=   0.4s\n",
      "[CV 3/5] END C=0.1, degree=2, gamma=0.1, kernel=linear;, score=0.907 total time=   0.4s\n",
      "[CV 4/5] END C=0.1, degree=2, gamma=0.1, kernel=linear;, score=0.909 total time=   0.4s\n",
      "[CV 5/5] END C=0.1, degree=2, gamma=0.1, kernel=linear;, score=0.918 total time=   0.4s\n",
      "[CV 1/5] END C=0.1, degree=2, gamma=0.01, kernel=rbf;, score=0.873 total time=   0.3s\n",
      "[CV 2/5] END C=0.1, degree=2, gamma=0.01, kernel=rbf;, score=0.873 total time=   0.4s\n",
      "[CV 3/5] END C=0.1, degree=2, gamma=0.01, kernel=rbf;, score=0.874 total time=   0.3s\n",
      "[CV 4/5] END C=0.1, degree=2, gamma=0.01, kernel=rbf;, score=0.874 total time=   0.3s\n",
      "[CV 5/5] END C=0.1, degree=2, gamma=0.01, kernel=rbf;, score=0.874 total time=   0.3s\n",
      "[CV 1/5] END C=0.1, degree=2, gamma=0.01, kernel=linear;, score=0.915 total time=   0.4s\n",
      "[CV 2/5] END C=0.1, degree=2, gamma=0.01, kernel=linear;, score=0.908 total time=   0.4s\n",
      "[CV 3/5] END C=0.1, degree=2, gamma=0.01, kernel=linear;, score=0.907 total time=   0.4s\n",
      "[CV 4/5] END C=0.1, degree=2, gamma=0.01, kernel=linear;, score=0.909 total time=   0.4s\n",
      "[CV 5/5] END C=0.1, degree=2, gamma=0.01, kernel=linear;, score=0.918 total time=   0.4s\n",
      "[CV 1/5] END C=0.1, degree=2, gamma=0.001, kernel=rbf;, score=0.873 total time=   0.3s\n",
      "[CV 2/5] END C=0.1, degree=2, gamma=0.001, kernel=rbf;, score=0.873 total time=   0.3s\n",
      "[CV 3/5] END C=0.1, degree=2, gamma=0.001, kernel=rbf;, score=0.874 total time=   0.3s\n",
      "[CV 4/5] END C=0.1, degree=2, gamma=0.001, kernel=rbf;, score=0.874 total time=   0.3s\n",
      "[CV 5/5] END C=0.1, degree=2, gamma=0.001, kernel=rbf;, score=0.874 total time=   0.3s\n",
      "[CV 1/5] END C=0.1, degree=2, gamma=0.001, kernel=linear;, score=0.915 total time=   0.4s\n",
      "[CV 2/5] END C=0.1, degree=2, gamma=0.001, kernel=linear;, score=0.908 total time=   0.4s\n",
      "[CV 3/5] END C=0.1, degree=2, gamma=0.001, kernel=linear;, score=0.907 total time=   0.4s\n",
      "[CV 4/5] END C=0.1, degree=2, gamma=0.001, kernel=linear;, score=0.909 total time=   0.4s\n",
      "[CV 5/5] END C=0.1, degree=2, gamma=0.001, kernel=linear;, score=0.918 total time=   0.4s\n",
      "[CV 1/5] END C=0.1, degree=3, gamma=1, kernel=rbf;, score=0.873 total time=   0.6s\n",
      "[CV 2/5] END C=0.1, degree=3, gamma=1, kernel=rbf;, score=0.873 total time=   0.6s\n",
      "[CV 3/5] END C=0.1, degree=3, gamma=1, kernel=rbf;, score=0.874 total time=   0.6s\n",
      "[CV 4/5] END C=0.1, degree=3, gamma=1, kernel=rbf;, score=0.874 total time=   0.6s\n",
      "[CV 5/5] END C=0.1, degree=3, gamma=1, kernel=rbf;, score=0.874 total time=   0.7s\n",
      "[CV 1/5] END C=0.1, degree=3, gamma=1, kernel=linear;, score=0.915 total time=   0.4s\n",
      "[CV 2/5] END C=0.1, degree=3, gamma=1, kernel=linear;, score=0.908 total time=   0.4s\n",
      "[CV 3/5] END C=0.1, degree=3, gamma=1, kernel=linear;, score=0.907 total time=   0.4s\n",
      "[CV 4/5] END C=0.1, degree=3, gamma=1, kernel=linear;, score=0.909 total time=   0.4s\n",
      "[CV 5/5] END C=0.1, degree=3, gamma=1, kernel=linear;, score=0.918 total time=   0.4s\n",
      "[CV 1/5] END C=0.1, degree=3, gamma=0.1, kernel=rbf;, score=0.873 total time=   0.4s\n",
      "[CV 2/5] END C=0.1, degree=3, gamma=0.1, kernel=rbf;, score=0.873 total time=   0.4s\n",
      "[CV 3/5] END C=0.1, degree=3, gamma=0.1, kernel=rbf;, score=0.874 total time=   0.4s\n",
      "[CV 4/5] END C=0.1, degree=3, gamma=0.1, kernel=rbf;, score=0.874 total time=   0.4s\n",
      "[CV 5/5] END C=0.1, degree=3, gamma=0.1, kernel=rbf;, score=0.874 total time=   0.4s\n",
      "[CV 1/5] END C=0.1, degree=3, gamma=0.1, kernel=linear;, score=0.915 total time=   0.4s\n",
      "[CV 2/5] END C=0.1, degree=3, gamma=0.1, kernel=linear;, score=0.908 total time=   0.4s\n",
      "[CV 3/5] END C=0.1, degree=3, gamma=0.1, kernel=linear;, score=0.907 total time=   0.4s\n",
      "[CV 4/5] END C=0.1, degree=3, gamma=0.1, kernel=linear;, score=0.909 total time=   0.4s\n",
      "[CV 5/5] END C=0.1, degree=3, gamma=0.1, kernel=linear;, score=0.918 total time=   0.4s\n",
      "[CV 1/5] END C=0.1, degree=3, gamma=0.01, kernel=rbf;, score=0.873 total time=   0.3s\n",
      "[CV 2/5] END C=0.1, degree=3, gamma=0.01, kernel=rbf;, score=0.873 total time=   0.3s\n",
      "[CV 3/5] END C=0.1, degree=3, gamma=0.01, kernel=rbf;, score=0.874 total time=   0.3s\n",
      "[CV 4/5] END C=0.1, degree=3, gamma=0.01, kernel=rbf;, score=0.874 total time=   0.3s\n",
      "[CV 5/5] END C=0.1, degree=3, gamma=0.01, kernel=rbf;, score=0.874 total time=   0.3s\n",
      "[CV 1/5] END C=0.1, degree=3, gamma=0.01, kernel=linear;, score=0.915 total time=   0.4s\n",
      "[CV 2/5] END C=0.1, degree=3, gamma=0.01, kernel=linear;, score=0.908 total time=   0.4s\n",
      "[CV 3/5] END C=0.1, degree=3, gamma=0.01, kernel=linear;, score=0.907 total time=   0.4s\n",
      "[CV 4/5] END C=0.1, degree=3, gamma=0.01, kernel=linear;, score=0.909 total time=   0.3s\n",
      "[CV 5/5] END C=0.1, degree=3, gamma=0.01, kernel=linear;, score=0.918 total time=   0.4s\n",
      "[CV 1/5] END C=0.1, degree=3, gamma=0.001, kernel=rbf;, score=0.873 total time=   0.3s\n",
      "[CV 2/5] END C=0.1, degree=3, gamma=0.001, kernel=rbf;, score=0.873 total time=   0.3s\n",
      "[CV 3/5] END C=0.1, degree=3, gamma=0.001, kernel=rbf;, score=0.874 total time=   0.3s\n",
      "[CV 4/5] END C=0.1, degree=3, gamma=0.001, kernel=rbf;, score=0.874 total time=   0.3s\n",
      "[CV 5/5] END C=0.1, degree=3, gamma=0.001, kernel=rbf;, score=0.874 total time=   0.3s\n",
      "[CV 1/5] END C=0.1, degree=3, gamma=0.001, kernel=linear;, score=0.915 total time=   0.4s\n",
      "[CV 2/5] END C=0.1, degree=3, gamma=0.001, kernel=linear;, score=0.908 total time=   0.4s\n",
      "[CV 3/5] END C=0.1, degree=3, gamma=0.001, kernel=linear;, score=0.907 total time=   0.4s\n",
      "[CV 4/5] END C=0.1, degree=3, gamma=0.001, kernel=linear;, score=0.909 total time=   0.4s\n",
      "[CV 5/5] END C=0.1, degree=3, gamma=0.001, kernel=linear;, score=0.918 total time=   0.4s\n",
      "[CV 1/5] END C=0.1, degree=4, gamma=1, kernel=rbf;, score=0.873 total time=   0.6s\n",
      "[CV 2/5] END C=0.1, degree=4, gamma=1, kernel=rbf;, score=0.873 total time=   0.6s\n",
      "[CV 3/5] END C=0.1, degree=4, gamma=1, kernel=rbf;, score=0.874 total time=   0.6s\n",
      "[CV 4/5] END C=0.1, degree=4, gamma=1, kernel=rbf;, score=0.874 total time=   0.6s\n",
      "[CV 5/5] END C=0.1, degree=4, gamma=1, kernel=rbf;, score=0.874 total time=   0.6s\n",
      "[CV 1/5] END C=0.1, degree=4, gamma=1, kernel=linear;, score=0.915 total time=   0.3s\n",
      "[CV 2/5] END C=0.1, degree=4, gamma=1, kernel=linear;, score=0.908 total time=   0.4s\n",
      "[CV 3/5] END C=0.1, degree=4, gamma=1, kernel=linear;, score=0.907 total time=   0.4s\n",
      "[CV 4/5] END C=0.1, degree=4, gamma=1, kernel=linear;, score=0.909 total time=   0.4s\n",
      "[CV 5/5] END C=0.1, degree=4, gamma=1, kernel=linear;, score=0.918 total time=   0.4s\n",
      "[CV 1/5] END C=0.1, degree=4, gamma=0.1, kernel=rbf;, score=0.873 total time=   0.4s\n",
      "[CV 2/5] END C=0.1, degree=4, gamma=0.1, kernel=rbf;, score=0.873 total time=   0.4s\n",
      "[CV 3/5] END C=0.1, degree=4, gamma=0.1, kernel=rbf;, score=0.874 total time=   0.4s\n",
      "[CV 4/5] END C=0.1, degree=4, gamma=0.1, kernel=rbf;, score=0.874 total time=   0.4s\n",
      "[CV 5/5] END C=0.1, degree=4, gamma=0.1, kernel=rbf;, score=0.874 total time=   0.4s\n",
      "[CV 1/5] END C=0.1, degree=4, gamma=0.1, kernel=linear;, score=0.915 total time=   0.4s\n",
      "[CV 2/5] END C=0.1, degree=4, gamma=0.1, kernel=linear;, score=0.908 total time=   0.4s\n",
      "[CV 3/5] END C=0.1, degree=4, gamma=0.1, kernel=linear;, score=0.907 total time=   0.4s\n",
      "[CV 4/5] END C=0.1, degree=4, gamma=0.1, kernel=linear;, score=0.909 total time=   0.3s\n",
      "[CV 5/5] END C=0.1, degree=4, gamma=0.1, kernel=linear;, score=0.918 total time=   0.4s\n",
      "[CV 1/5] END C=0.1, degree=4, gamma=0.01, kernel=rbf;, score=0.873 total time=   0.3s\n",
      "[CV 2/5] END C=0.1, degree=4, gamma=0.01, kernel=rbf;, score=0.873 total time=   0.3s\n",
      "[CV 3/5] END C=0.1, degree=4, gamma=0.01, kernel=rbf;, score=0.874 total time=   0.3s\n",
      "[CV 4/5] END C=0.1, degree=4, gamma=0.01, kernel=rbf;, score=0.874 total time=   0.3s\n",
      "[CV 5/5] END C=0.1, degree=4, gamma=0.01, kernel=rbf;, score=0.874 total time=   0.3s\n",
      "[CV 1/5] END C=0.1, degree=4, gamma=0.01, kernel=linear;, score=0.915 total time=   0.4s\n",
      "[CV 2/5] END C=0.1, degree=4, gamma=0.01, kernel=linear;, score=0.908 total time=   0.4s\n",
      "[CV 3/5] END C=0.1, degree=4, gamma=0.01, kernel=linear;, score=0.907 total time=   0.4s\n",
      "[CV 4/5] END C=0.1, degree=4, gamma=0.01, kernel=linear;, score=0.909 total time=   0.4s\n",
      "[CV 5/5] END C=0.1, degree=4, gamma=0.01, kernel=linear;, score=0.918 total time=   0.4s\n",
      "[CV 1/5] END C=0.1, degree=4, gamma=0.001, kernel=rbf;, score=0.873 total time=   0.3s\n",
      "[CV 2/5] END C=0.1, degree=4, gamma=0.001, kernel=rbf;, score=0.873 total time=   0.3s\n",
      "[CV 3/5] END C=0.1, degree=4, gamma=0.001, kernel=rbf;, score=0.874 total time=   0.3s\n",
      "[CV 4/5] END C=0.1, degree=4, gamma=0.001, kernel=rbf;, score=0.874 total time=   0.3s\n",
      "[CV 5/5] END C=0.1, degree=4, gamma=0.001, kernel=rbf;, score=0.874 total time=   0.3s\n",
      "[CV 1/5] END C=0.1, degree=4, gamma=0.001, kernel=linear;, score=0.915 total time=   0.4s\n",
      "[CV 2/5] END C=0.1, degree=4, gamma=0.001, kernel=linear;, score=0.908 total time=   0.4s\n",
      "[CV 3/5] END C=0.1, degree=4, gamma=0.001, kernel=linear;, score=0.907 total time=   0.4s\n",
      "[CV 4/5] END C=0.1, degree=4, gamma=0.001, kernel=linear;, score=0.909 total time=   0.3s\n",
      "[CV 5/5] END C=0.1, degree=4, gamma=0.001, kernel=linear;, score=0.918 total time=   0.4s\n",
      "[CV 1/5] END C=1, degree=2, gamma=1, kernel=rbf;, score=0.970 total time=   0.9s\n",
      "[CV 2/5] END C=1, degree=2, gamma=1, kernel=rbf;, score=0.978 total time=   0.9s\n",
      "[CV 3/5] END C=1, degree=2, gamma=1, kernel=rbf;, score=0.965 total time=   0.6s\n",
      "[CV 4/5] END C=1, degree=2, gamma=1, kernel=rbf;, score=0.969 total time=   0.9s\n",
      "[CV 5/5] END C=1, degree=2, gamma=1, kernel=rbf;, score=0.977 total time=   0.9s\n",
      "[CV 1/5] END C=1, degree=2, gamma=1, kernel=linear;, score=0.978 total time=   0.3s\n",
      "[CV 2/5] END C=1, degree=2, gamma=1, kernel=linear;, score=0.981 total time=   0.3s\n",
      "[CV 3/5] END C=1, degree=2, gamma=1, kernel=linear;, score=0.971 total time=   0.3s\n",
      "[CV 4/5] END C=1, degree=2, gamma=1, kernel=linear;, score=0.981 total time=   0.3s\n",
      "[CV 5/5] END C=1, degree=2, gamma=1, kernel=linear;, score=0.988 total time=   0.3s\n",
      "[CV 1/5] END C=1, degree=2, gamma=0.1, kernel=rbf;, score=0.949 total time=   0.4s\n",
      "[CV 2/5] END C=1, degree=2, gamma=0.1, kernel=rbf;, score=0.961 total time=   0.4s\n",
      "[CV 3/5] END C=1, degree=2, gamma=0.1, kernel=rbf;, score=0.942 total time=   0.4s\n",
      "[CV 4/5] END C=1, degree=2, gamma=0.1, kernel=rbf;, score=0.946 total time=   0.4s\n",
      "[CV 5/5] END C=1, degree=2, gamma=0.1, kernel=rbf;, score=0.959 total time=   0.4s\n",
      "[CV 1/5] END C=1, degree=2, gamma=0.1, kernel=linear;, score=0.978 total time=   0.3s\n",
      "[CV 2/5] END C=1, degree=2, gamma=0.1, kernel=linear;, score=0.981 total time=   0.3s\n",
      "[CV 3/5] END C=1, degree=2, gamma=0.1, kernel=linear;, score=0.971 total time=   0.3s\n",
      "[CV 4/5] END C=1, degree=2, gamma=0.1, kernel=linear;, score=0.981 total time=   0.3s\n",
      "[CV 5/5] END C=1, degree=2, gamma=0.1, kernel=linear;, score=0.988 total time=   0.3s\n",
      "[CV 1/5] END C=1, degree=2, gamma=0.01, kernel=rbf;, score=0.873 total time=   0.4s\n",
      "[CV 2/5] END C=1, degree=2, gamma=0.01, kernel=rbf;, score=0.873 total time=   0.4s\n",
      "[CV 3/5] END C=1, degree=2, gamma=0.01, kernel=rbf;, score=0.874 total time=   0.4s\n",
      "[CV 4/5] END C=1, degree=2, gamma=0.01, kernel=rbf;, score=0.874 total time=   0.4s\n",
      "[CV 5/5] END C=1, degree=2, gamma=0.01, kernel=rbf;, score=0.874 total time=   0.4s\n",
      "[CV 1/5] END C=1, degree=2, gamma=0.01, kernel=linear;, score=0.978 total time=   0.3s\n",
      "[CV 2/5] END C=1, degree=2, gamma=0.01, kernel=linear;, score=0.981 total time=   0.3s\n",
      "[CV 3/5] END C=1, degree=2, gamma=0.01, kernel=linear;, score=0.971 total time=   0.3s\n",
      "[CV 4/5] END C=1, degree=2, gamma=0.01, kernel=linear;, score=0.981 total time=   0.3s\n",
      "[CV 5/5] END C=1, degree=2, gamma=0.01, kernel=linear;, score=0.988 total time=   0.3s\n",
      "[CV 1/5] END C=1, degree=2, gamma=0.001, kernel=rbf;, score=0.873 total time=   0.3s\n",
      "[CV 2/5] END C=1, degree=2, gamma=0.001, kernel=rbf;, score=0.873 total time=   0.3s\n",
      "[CV 3/5] END C=1, degree=2, gamma=0.001, kernel=rbf;, score=0.874 total time=   0.3s\n",
      "[CV 4/5] END C=1, degree=2, gamma=0.001, kernel=rbf;, score=0.874 total time=   0.3s\n",
      "[CV 5/5] END C=1, degree=2, gamma=0.001, kernel=rbf;, score=0.874 total time=   0.3s\n",
      "[CV 1/5] END C=1, degree=2, gamma=0.001, kernel=linear;, score=0.978 total time=   0.3s\n",
      "[CV 2/5] END C=1, degree=2, gamma=0.001, kernel=linear;, score=0.981 total time=   0.3s\n",
      "[CV 3/5] END C=1, degree=2, gamma=0.001, kernel=linear;, score=0.971 total time=   0.3s\n",
      "[CV 4/5] END C=1, degree=2, gamma=0.001, kernel=linear;, score=0.981 total time=   0.3s\n",
      "[CV 5/5] END C=1, degree=2, gamma=0.001, kernel=linear;, score=0.988 total time=   0.3s\n",
      "[CV 1/5] END C=1, degree=3, gamma=1, kernel=rbf;, score=0.970 total time=   0.9s\n",
      "[CV 2/5] END C=1, degree=3, gamma=1, kernel=rbf;, score=0.978 total time=   0.9s\n",
      "[CV 3/5] END C=1, degree=3, gamma=1, kernel=rbf;, score=0.965 total time=   0.6s\n",
      "[CV 4/5] END C=1, degree=3, gamma=1, kernel=rbf;, score=0.969 total time=   0.9s\n",
      "[CV 5/5] END C=1, degree=3, gamma=1, kernel=rbf;, score=0.977 total time=   0.9s\n",
      "[CV 1/5] END C=1, degree=3, gamma=1, kernel=linear;, score=0.978 total time=   0.3s\n",
      "[CV 2/5] END C=1, degree=3, gamma=1, kernel=linear;, score=0.981 total time=   0.3s\n",
      "[CV 3/5] END C=1, degree=3, gamma=1, kernel=linear;, score=0.971 total time=   0.3s\n",
      "[CV 4/5] END C=1, degree=3, gamma=1, kernel=linear;, score=0.981 total time=   0.3s\n",
      "[CV 5/5] END C=1, degree=3, gamma=1, kernel=linear;, score=0.988 total time=   0.3s\n",
      "[CV 1/5] END C=1, degree=3, gamma=0.1, kernel=rbf;, score=0.949 total time=   0.5s\n",
      "[CV 2/5] END C=1, degree=3, gamma=0.1, kernel=rbf;, score=0.961 total time=   0.4s\n",
      "[CV 3/5] END C=1, degree=3, gamma=0.1, kernel=rbf;, score=0.942 total time=   0.4s\n",
      "[CV 4/5] END C=1, degree=3, gamma=0.1, kernel=rbf;, score=0.946 total time=   0.4s\n",
      "[CV 5/5] END C=1, degree=3, gamma=0.1, kernel=rbf;, score=0.959 total time=   0.4s\n",
      "[CV 1/5] END C=1, degree=3, gamma=0.1, kernel=linear;, score=0.978 total time=   0.3s\n",
      "[CV 2/5] END C=1, degree=3, gamma=0.1, kernel=linear;, score=0.981 total time=   0.3s\n",
      "[CV 3/5] END C=1, degree=3, gamma=0.1, kernel=linear;, score=0.971 total time=   0.3s\n",
      "[CV 4/5] END C=1, degree=3, gamma=0.1, kernel=linear;, score=0.981 total time=   0.3s\n",
      "[CV 5/5] END C=1, degree=3, gamma=0.1, kernel=linear;, score=0.988 total time=   0.3s\n",
      "[CV 1/5] END C=1, degree=3, gamma=0.01, kernel=rbf;, score=0.873 total time=   0.4s\n",
      "[CV 2/5] END C=1, degree=3, gamma=0.01, kernel=rbf;, score=0.873 total time=   0.4s\n",
      "[CV 3/5] END C=1, degree=3, gamma=0.01, kernel=rbf;, score=0.874 total time=   0.4s\n",
      "[CV 4/5] END C=1, degree=3, gamma=0.01, kernel=rbf;, score=0.874 total time=   0.4s\n",
      "[CV 5/5] END C=1, degree=3, gamma=0.01, kernel=rbf;, score=0.874 total time=   0.4s\n",
      "[CV 1/5] END C=1, degree=3, gamma=0.01, kernel=linear;, score=0.978 total time=   0.3s\n",
      "[CV 2/5] END C=1, degree=3, gamma=0.01, kernel=linear;, score=0.981 total time=   0.3s\n",
      "[CV 3/5] END C=1, degree=3, gamma=0.01, kernel=linear;, score=0.971 total time=   0.3s\n",
      "[CV 4/5] END C=1, degree=3, gamma=0.01, kernel=linear;, score=0.981 total time=   0.3s\n",
      "[CV 5/5] END C=1, degree=3, gamma=0.01, kernel=linear;, score=0.988 total time=   0.3s\n",
      "[CV 1/5] END C=1, degree=3, gamma=0.001, kernel=rbf;, score=0.873 total time=   0.3s\n",
      "[CV 2/5] END C=1, degree=3, gamma=0.001, kernel=rbf;, score=0.873 total time=   0.3s\n",
      "[CV 3/5] END C=1, degree=3, gamma=0.001, kernel=rbf;, score=0.874 total time=   0.3s\n",
      "[CV 4/5] END C=1, degree=3, gamma=0.001, kernel=rbf;, score=0.874 total time=   0.3s\n",
      "[CV 5/5] END C=1, degree=3, gamma=0.001, kernel=rbf;, score=0.874 total time=   0.4s\n",
      "[CV 1/5] END C=1, degree=3, gamma=0.001, kernel=linear;, score=0.978 total time=   0.3s\n",
      "[CV 2/5] END C=1, degree=3, gamma=0.001, kernel=linear;, score=0.981 total time=   0.4s\n",
      "[CV 3/5] END C=1, degree=3, gamma=0.001, kernel=linear;, score=0.971 total time=   0.3s\n",
      "[CV 4/5] END C=1, degree=3, gamma=0.001, kernel=linear;, score=0.981 total time=   0.3s\n",
      "[CV 5/5] END C=1, degree=3, gamma=0.001, kernel=linear;, score=0.988 total time=   0.3s\n",
      "[CV 1/5] END C=1, degree=4, gamma=1, kernel=rbf;, score=0.970 total time=   1.0s\n",
      "[CV 2/5] END C=1, degree=4, gamma=1, kernel=rbf;, score=0.978 total time=   1.0s\n",
      "[CV 3/5] END C=1, degree=4, gamma=1, kernel=rbf;, score=0.965 total time=   0.7s\n",
      "[CV 4/5] END C=1, degree=4, gamma=1, kernel=rbf;, score=0.969 total time=   1.0s\n",
      "[CV 5/5] END C=1, degree=4, gamma=1, kernel=rbf;, score=0.977 total time=   1.0s\n",
      "[CV 1/5] END C=1, degree=4, gamma=1, kernel=linear;, score=0.978 total time=   0.3s\n",
      "[CV 2/5] END C=1, degree=4, gamma=1, kernel=linear;, score=0.981 total time=   0.3s\n",
      "[CV 3/5] END C=1, degree=4, gamma=1, kernel=linear;, score=0.971 total time=   0.3s\n",
      "[CV 4/5] END C=1, degree=4, gamma=1, kernel=linear;, score=0.981 total time=   0.3s\n",
      "[CV 5/5] END C=1, degree=4, gamma=1, kernel=linear;, score=0.988 total time=   0.3s\n",
      "[CV 1/5] END C=1, degree=4, gamma=0.1, kernel=rbf;, score=0.949 total time=   0.4s\n",
      "[CV 2/5] END C=1, degree=4, gamma=0.1, kernel=rbf;, score=0.961 total time=   0.4s\n",
      "[CV 3/5] END C=1, degree=4, gamma=0.1, kernel=rbf;, score=0.942 total time=   0.4s\n",
      "[CV 4/5] END C=1, degree=4, gamma=0.1, kernel=rbf;, score=0.946 total time=   0.4s\n",
      "[CV 5/5] END C=1, degree=4, gamma=0.1, kernel=rbf;, score=0.959 total time=   0.4s\n",
      "[CV 1/5] END C=1, degree=4, gamma=0.1, kernel=linear;, score=0.978 total time=   0.3s\n",
      "[CV 2/5] END C=1, degree=4, gamma=0.1, kernel=linear;, score=0.981 total time=   0.3s\n",
      "[CV 3/5] END C=1, degree=4, gamma=0.1, kernel=linear;, score=0.971 total time=   0.3s\n",
      "[CV 4/5] END C=1, degree=4, gamma=0.1, kernel=linear;, score=0.981 total time=   0.3s\n",
      "[CV 5/5] END C=1, degree=4, gamma=0.1, kernel=linear;, score=0.988 total time=   0.3s\n",
      "[CV 1/5] END C=1, degree=4, gamma=0.01, kernel=rbf;, score=0.873 total time=   0.4s\n",
      "[CV 2/5] END C=1, degree=4, gamma=0.01, kernel=rbf;, score=0.873 total time=   0.4s\n",
      "[CV 3/5] END C=1, degree=4, gamma=0.01, kernel=rbf;, score=0.874 total time=   0.4s\n",
      "[CV 4/5] END C=1, degree=4, gamma=0.01, kernel=rbf;, score=0.874 total time=   0.4s\n",
      "[CV 5/5] END C=1, degree=4, gamma=0.01, kernel=rbf;, score=0.874 total time=   0.4s\n",
      "[CV 1/5] END C=1, degree=4, gamma=0.01, kernel=linear;, score=0.978 total time=   0.3s\n",
      "[CV 2/5] END C=1, degree=4, gamma=0.01, kernel=linear;, score=0.981 total time=   0.3s\n",
      "[CV 3/5] END C=1, degree=4, gamma=0.01, kernel=linear;, score=0.971 total time=   0.3s\n",
      "[CV 4/5] END C=1, degree=4, gamma=0.01, kernel=linear;, score=0.981 total time=   0.3s\n",
      "[CV 5/5] END C=1, degree=4, gamma=0.01, kernel=linear;, score=0.988 total time=   0.3s\n",
      "[CV 1/5] END C=1, degree=4, gamma=0.001, kernel=rbf;, score=0.873 total time=   0.3s\n",
      "[CV 2/5] END C=1, degree=4, gamma=0.001, kernel=rbf;, score=0.873 total time=   0.3s\n",
      "[CV 3/5] END C=1, degree=4, gamma=0.001, kernel=rbf;, score=0.874 total time=   0.3s\n",
      "[CV 4/5] END C=1, degree=4, gamma=0.001, kernel=rbf;, score=0.874 total time=   0.3s\n",
      "[CV 5/5] END C=1, degree=4, gamma=0.001, kernel=rbf;, score=0.874 total time=   0.3s\n",
      "[CV 1/5] END C=1, degree=4, gamma=0.001, kernel=linear;, score=0.978 total time=   0.3s\n",
      "[CV 2/5] END C=1, degree=4, gamma=0.001, kernel=linear;, score=0.981 total time=   0.3s\n",
      "[CV 3/5] END C=1, degree=4, gamma=0.001, kernel=linear;, score=0.971 total time=   0.3s\n",
      "[CV 4/5] END C=1, degree=4, gamma=0.001, kernel=linear;, score=0.981 total time=   0.3s\n",
      "[CV 5/5] END C=1, degree=4, gamma=0.001, kernel=linear;, score=0.988 total time=   0.3s\n",
      "[CV 1/5] END C=10, degree=2, gamma=1, kernel=rbf;, score=0.972 total time=   0.9s\n",
      "[CV 2/5] END C=10, degree=2, gamma=1, kernel=rbf;, score=0.982 total time=   1.0s\n",
      "[CV 3/5] END C=10, degree=2, gamma=1, kernel=rbf;, score=0.967 total time=   0.9s\n",
      "[CV 4/5] END C=10, degree=2, gamma=1, kernel=rbf;, score=0.972 total time=   1.0s\n",
      "[CV 5/5] END C=10, degree=2, gamma=1, kernel=rbf;, score=0.982 total time=   1.0s\n",
      "[CV 1/5] END C=10, degree=2, gamma=1, kernel=linear;, score=0.977 total time=   0.3s\n",
      "[CV 2/5] END C=10, degree=2, gamma=1, kernel=linear;, score=0.983 total time=   0.3s\n",
      "[CV 3/5] END C=10, degree=2, gamma=1, kernel=linear;, score=0.977 total time=   0.3s\n",
      "[CV 4/5] END C=10, degree=2, gamma=1, kernel=linear;, score=0.977 total time=   0.3s\n",
      "[CV 5/5] END C=10, degree=2, gamma=1, kernel=linear;, score=0.988 total time=   0.3s\n",
      "[CV 1/5] END C=10, degree=2, gamma=0.1, kernel=rbf;, score=0.979 total time=   0.4s\n",
      "[CV 2/5] END C=10, degree=2, gamma=0.1, kernel=rbf;, score=0.982 total time=   0.4s\n",
      "[CV 3/5] END C=10, degree=2, gamma=0.1, kernel=rbf;, score=0.977 total time=   0.4s\n",
      "[CV 4/5] END C=10, degree=2, gamma=0.1, kernel=rbf;, score=0.979 total time=   0.4s\n",
      "[CV 5/5] END C=10, degree=2, gamma=0.1, kernel=rbf;, score=0.990 total time=   0.4s\n",
      "[CV 1/5] END C=10, degree=2, gamma=0.1, kernel=linear;, score=0.977 total time=   0.3s\n",
      "[CV 2/5] END C=10, degree=2, gamma=0.1, kernel=linear;, score=0.983 total time=   0.3s\n",
      "[CV 3/5] END C=10, degree=2, gamma=0.1, kernel=linear;, score=0.977 total time=   0.3s\n",
      "[CV 4/5] END C=10, degree=2, gamma=0.1, kernel=linear;, score=0.977 total time=   0.3s\n",
      "[CV 5/5] END C=10, degree=2, gamma=0.1, kernel=linear;, score=0.988 total time=   0.3s\n",
      "[CV 1/5] END C=10, degree=2, gamma=0.01, kernel=rbf;, score=0.953 total time=   0.5s\n",
      "[CV 2/5] END C=10, degree=2, gamma=0.01, kernel=rbf;, score=0.971 total time=   0.4s\n",
      "[CV 3/5] END C=10, degree=2, gamma=0.01, kernel=rbf;, score=0.949 total time=   0.4s\n",
      "[CV 4/5] END C=10, degree=2, gamma=0.01, kernel=rbf;, score=0.950 total time=   0.4s\n",
      "[CV 5/5] END C=10, degree=2, gamma=0.01, kernel=rbf;, score=0.965 total time=   0.4s\n",
      "[CV 1/5] END C=10, degree=2, gamma=0.01, kernel=linear;, score=0.977 total time=   0.3s\n",
      "[CV 2/5] END C=10, degree=2, gamma=0.01, kernel=linear;, score=0.983 total time=   0.3s\n",
      "[CV 3/5] END C=10, degree=2, gamma=0.01, kernel=linear;, score=0.977 total time=   0.3s\n",
      "[CV 4/5] END C=10, degree=2, gamma=0.01, kernel=linear;, score=0.977 total time=   0.3s\n",
      "[CV 5/5] END C=10, degree=2, gamma=0.01, kernel=linear;, score=0.988 total time=   0.3s\n",
      "[CV 1/5] END C=10, degree=2, gamma=0.001, kernel=rbf;, score=0.873 total time=   0.4s\n",
      "[CV 2/5] END C=10, degree=2, gamma=0.001, kernel=rbf;, score=0.873 total time=   0.4s\n",
      "[CV 3/5] END C=10, degree=2, gamma=0.001, kernel=rbf;, score=0.874 total time=   0.4s\n",
      "[CV 4/5] END C=10, degree=2, gamma=0.001, kernel=rbf;, score=0.874 total time=   0.4s\n",
      "[CV 5/5] END C=10, degree=2, gamma=0.001, kernel=rbf;, score=0.874 total time=   0.4s\n",
      "[CV 1/5] END C=10, degree=2, gamma=0.001, kernel=linear;, score=0.977 total time=   0.3s\n",
      "[CV 2/5] END C=10, degree=2, gamma=0.001, kernel=linear;, score=0.983 total time=   0.3s\n",
      "[CV 3/5] END C=10, degree=2, gamma=0.001, kernel=linear;, score=0.977 total time=   0.3s\n",
      "[CV 4/5] END C=10, degree=2, gamma=0.001, kernel=linear;, score=0.977 total time=   0.3s\n",
      "[CV 5/5] END C=10, degree=2, gamma=0.001, kernel=linear;, score=0.988 total time=   0.3s\n",
      "[CV 1/5] END C=10, degree=3, gamma=1, kernel=rbf;, score=0.972 total time=   0.9s\n",
      "[CV 2/5] END C=10, degree=3, gamma=1, kernel=rbf;, score=0.982 total time=   1.0s\n",
      "[CV 3/5] END C=10, degree=3, gamma=1, kernel=rbf;, score=0.967 total time=   0.9s\n",
      "[CV 4/5] END C=10, degree=3, gamma=1, kernel=rbf;, score=0.972 total time=   1.0s\n",
      "[CV 5/5] END C=10, degree=3, gamma=1, kernel=rbf;, score=0.982 total time=   1.0s\n",
      "[CV 1/5] END C=10, degree=3, gamma=1, kernel=linear;, score=0.977 total time=   0.3s\n",
      "[CV 2/5] END C=10, degree=3, gamma=1, kernel=linear;, score=0.983 total time=   0.3s\n",
      "[CV 3/5] END C=10, degree=3, gamma=1, kernel=linear;, score=0.977 total time=   0.3s\n",
      "[CV 4/5] END C=10, degree=3, gamma=1, kernel=linear;, score=0.977 total time=   0.3s\n",
      "[CV 5/5] END C=10, degree=3, gamma=1, kernel=linear;, score=0.988 total time=   0.3s\n",
      "[CV 1/5] END C=10, degree=3, gamma=0.1, kernel=rbf;, score=0.979 total time=   0.4s\n",
      "[CV 2/5] END C=10, degree=3, gamma=0.1, kernel=rbf;, score=0.982 total time=   0.4s\n",
      "[CV 3/5] END C=10, degree=3, gamma=0.1, kernel=rbf;, score=0.977 total time=   0.3s\n",
      "[CV 4/5] END C=10, degree=3, gamma=0.1, kernel=rbf;, score=0.979 total time=   0.4s\n",
      "[CV 5/5] END C=10, degree=3, gamma=0.1, kernel=rbf;, score=0.990 total time=   0.3s\n",
      "[CV 1/5] END C=10, degree=3, gamma=0.1, kernel=linear;, score=0.977 total time=   0.3s\n",
      "[CV 2/5] END C=10, degree=3, gamma=0.1, kernel=linear;, score=0.983 total time=   0.3s\n",
      "[CV 3/5] END C=10, degree=3, gamma=0.1, kernel=linear;, score=0.977 total time=   0.3s\n",
      "[CV 4/5] END C=10, degree=3, gamma=0.1, kernel=linear;, score=0.977 total time=   0.3s\n",
      "[CV 5/5] END C=10, degree=3, gamma=0.1, kernel=linear;, score=0.988 total time=   0.3s\n",
      "[CV 1/5] END C=10, degree=3, gamma=0.01, kernel=rbf;, score=0.953 total time=   0.4s\n",
      "[CV 2/5] END C=10, degree=3, gamma=0.01, kernel=rbf;, score=0.971 total time=   0.4s\n",
      "[CV 3/5] END C=10, degree=3, gamma=0.01, kernel=rbf;, score=0.949 total time=   0.4s\n",
      "[CV 4/5] END C=10, degree=3, gamma=0.01, kernel=rbf;, score=0.950 total time=   0.4s\n",
      "[CV 5/5] END C=10, degree=3, gamma=0.01, kernel=rbf;, score=0.965 total time=   0.4s\n",
      "[CV 1/5] END C=10, degree=3, gamma=0.01, kernel=linear;, score=0.977 total time=   0.3s\n",
      "[CV 2/5] END C=10, degree=3, gamma=0.01, kernel=linear;, score=0.983 total time=   0.3s\n",
      "[CV 3/5] END C=10, degree=3, gamma=0.01, kernel=linear;, score=0.977 total time=   0.3s\n",
      "[CV 4/5] END C=10, degree=3, gamma=0.01, kernel=linear;, score=0.977 total time=   0.3s\n",
      "[CV 5/5] END C=10, degree=3, gamma=0.01, kernel=linear;, score=0.988 total time=   0.3s\n",
      "[CV 1/5] END C=10, degree=3, gamma=0.001, kernel=rbf;, score=0.873 total time=   0.4s\n",
      "[CV 2/5] END C=10, degree=3, gamma=0.001, kernel=rbf;, score=0.873 total time=   0.4s\n",
      "[CV 3/5] END C=10, degree=3, gamma=0.001, kernel=rbf;, score=0.874 total time=   0.4s\n",
      "[CV 4/5] END C=10, degree=3, gamma=0.001, kernel=rbf;, score=0.874 total time=   0.4s\n",
      "[CV 5/5] END C=10, degree=3, gamma=0.001, kernel=rbf;, score=0.874 total time=   0.4s\n",
      "[CV 1/5] END C=10, degree=3, gamma=0.001, kernel=linear;, score=0.977 total time=   0.3s\n",
      "[CV 2/5] END C=10, degree=3, gamma=0.001, kernel=linear;, score=0.983 total time=   0.3s\n",
      "[CV 3/5] END C=10, degree=3, gamma=0.001, kernel=linear;, score=0.977 total time=   0.3s\n",
      "[CV 4/5] END C=10, degree=3, gamma=0.001, kernel=linear;, score=0.977 total time=   0.3s\n",
      "[CV 5/5] END C=10, degree=3, gamma=0.001, kernel=linear;, score=0.988 total time=   0.3s\n",
      "[CV 1/5] END C=10, degree=4, gamma=1, kernel=rbf;, score=0.972 total time=   0.9s\n",
      "[CV 2/5] END C=10, degree=4, gamma=1, kernel=rbf;, score=0.982 total time=   0.9s\n",
      "[CV 3/5] END C=10, degree=4, gamma=1, kernel=rbf;, score=0.967 total time=   0.9s\n",
      "[CV 4/5] END C=10, degree=4, gamma=1, kernel=rbf;, score=0.972 total time=   0.9s\n",
      "[CV 5/5] END C=10, degree=4, gamma=1, kernel=rbf;, score=0.982 total time=   1.0s\n",
      "[CV 1/5] END C=10, degree=4, gamma=1, kernel=linear;, score=0.977 total time=   0.3s\n",
      "[CV 2/5] END C=10, degree=4, gamma=1, kernel=linear;, score=0.983 total time=   0.3s\n",
      "[CV 3/5] END C=10, degree=4, gamma=1, kernel=linear;, score=0.977 total time=   0.3s\n",
      "[CV 4/5] END C=10, degree=4, gamma=1, kernel=linear;, score=0.977 total time=   0.3s\n",
      "[CV 5/5] END C=10, degree=4, gamma=1, kernel=linear;, score=0.988 total time=   0.3s\n",
      "[CV 1/5] END C=10, degree=4, gamma=0.1, kernel=rbf;, score=0.979 total time=   0.4s\n",
      "[CV 2/5] END C=10, degree=4, gamma=0.1, kernel=rbf;, score=0.982 total time=   0.4s\n",
      "[CV 3/5] END C=10, degree=4, gamma=0.1, kernel=rbf;, score=0.977 total time=   0.3s\n",
      "[CV 4/5] END C=10, degree=4, gamma=0.1, kernel=rbf;, score=0.979 total time=   0.3s\n",
      "[CV 5/5] END C=10, degree=4, gamma=0.1, kernel=rbf;, score=0.990 total time=   0.4s\n",
      "[CV 1/5] END C=10, degree=4, gamma=0.1, kernel=linear;, score=0.977 total time=   0.3s\n",
      "[CV 2/5] END C=10, degree=4, gamma=0.1, kernel=linear;, score=0.983 total time=   0.3s\n",
      "[CV 3/5] END C=10, degree=4, gamma=0.1, kernel=linear;, score=0.977 total time=   0.3s\n",
      "[CV 4/5] END C=10, degree=4, gamma=0.1, kernel=linear;, score=0.977 total time=   0.3s\n",
      "[CV 5/5] END C=10, degree=4, gamma=0.1, kernel=linear;, score=0.988 total time=   0.3s\n",
      "[CV 1/5] END C=10, degree=4, gamma=0.01, kernel=rbf;, score=0.953 total time=   0.4s\n",
      "[CV 2/5] END C=10, degree=4, gamma=0.01, kernel=rbf;, score=0.971 total time=   0.4s\n",
      "[CV 3/5] END C=10, degree=4, gamma=0.01, kernel=rbf;, score=0.949 total time=   0.4s\n",
      "[CV 4/5] END C=10, degree=4, gamma=0.01, kernel=rbf;, score=0.950 total time=   0.4s\n",
      "[CV 5/5] END C=10, degree=4, gamma=0.01, kernel=rbf;, score=0.965 total time=   0.4s\n",
      "[CV 1/5] END C=10, degree=4, gamma=0.01, kernel=linear;, score=0.977 total time=   0.3s\n",
      "[CV 2/5] END C=10, degree=4, gamma=0.01, kernel=linear;, score=0.983 total time=   0.3s\n",
      "[CV 3/5] END C=10, degree=4, gamma=0.01, kernel=linear;, score=0.977 total time=   0.3s\n",
      "[CV 4/5] END C=10, degree=4, gamma=0.01, kernel=linear;, score=0.977 total time=   0.3s\n",
      "[CV 5/5] END C=10, degree=4, gamma=0.01, kernel=linear;, score=0.988 total time=   0.3s\n",
      "[CV 1/5] END C=10, degree=4, gamma=0.001, kernel=rbf;, score=0.873 total time=   0.4s\n",
      "[CV 2/5] END C=10, degree=4, gamma=0.001, kernel=rbf;, score=0.873 total time=   0.4s\n",
      "[CV 3/5] END C=10, degree=4, gamma=0.001, kernel=rbf;, score=0.874 total time=   0.4s\n",
      "[CV 4/5] END C=10, degree=4, gamma=0.001, kernel=rbf;, score=0.874 total time=   0.4s\n",
      "[CV 5/5] END C=10, degree=4, gamma=0.001, kernel=rbf;, score=0.874 total time=   0.4s\n",
      "[CV 1/5] END C=10, degree=4, gamma=0.001, kernel=linear;, score=0.977 total time=   0.3s\n",
      "[CV 2/5] END C=10, degree=4, gamma=0.001, kernel=linear;, score=0.983 total time=   0.3s\n",
      "[CV 3/5] END C=10, degree=4, gamma=0.001, kernel=linear;, score=0.977 total time=   0.3s\n",
      "[CV 4/5] END C=10, degree=4, gamma=0.001, kernel=linear;, score=0.977 total time=   0.3s\n",
      "[CV 5/5] END C=10, degree=4, gamma=0.001, kernel=linear;, score=0.988 total time=   0.3s\n",
      "[CV 1/5] END C=100, degree=2, gamma=1, kernel=rbf;, score=0.972 total time=   0.9s\n",
      "[CV 2/5] END C=100, degree=2, gamma=1, kernel=rbf;, score=0.982 total time=   0.9s\n",
      "[CV 3/5] END C=100, degree=2, gamma=1, kernel=rbf;, score=0.967 total time=   0.9s\n",
      "[CV 4/5] END C=100, degree=2, gamma=1, kernel=rbf;, score=0.972 total time=   0.9s\n",
      "[CV 5/5] END C=100, degree=2, gamma=1, kernel=rbf;, score=0.982 total time=   0.9s\n",
      "[CV 1/5] END C=100, degree=2, gamma=1, kernel=linear;, score=0.977 total time=   0.3s\n",
      "[CV 2/5] END C=100, degree=2, gamma=1, kernel=linear;, score=0.983 total time=   0.3s\n",
      "[CV 3/5] END C=100, degree=2, gamma=1, kernel=linear;, score=0.977 total time=   0.3s\n",
      "[CV 4/5] END C=100, degree=2, gamma=1, kernel=linear;, score=0.977 total time=   0.3s\n",
      "[CV 5/5] END C=100, degree=2, gamma=1, kernel=linear;, score=0.988 total time=   0.3s\n",
      "[CV 1/5] END C=100, degree=2, gamma=0.1, kernel=rbf;, score=0.978 total time=   0.3s\n",
      "[CV 2/5] END C=100, degree=2, gamma=0.1, kernel=rbf;, score=0.983 total time=   0.3s\n",
      "[CV 3/5] END C=100, degree=2, gamma=0.1, kernel=rbf;, score=0.977 total time=   0.3s\n",
      "[CV 4/5] END C=100, degree=2, gamma=0.1, kernel=rbf;, score=0.977 total time=   0.3s\n",
      "[CV 5/5] END C=100, degree=2, gamma=0.1, kernel=rbf;, score=0.989 total time=   0.4s\n",
      "[CV 1/5] END C=100, degree=2, gamma=0.1, kernel=linear;, score=0.977 total time=   0.3s\n",
      "[CV 2/5] END C=100, degree=2, gamma=0.1, kernel=linear;, score=0.983 total time=   0.3s\n",
      "[CV 3/5] END C=100, degree=2, gamma=0.1, kernel=linear;, score=0.977 total time=   0.3s\n",
      "[CV 4/5] END C=100, degree=2, gamma=0.1, kernel=linear;, score=0.977 total time=   0.3s\n",
      "[CV 5/5] END C=100, degree=2, gamma=0.1, kernel=linear;, score=0.988 total time=   0.3s\n",
      "[CV 1/5] END C=100, degree=2, gamma=0.01, kernel=rbf;, score=0.979 total time=   0.3s\n",
      "[CV 2/5] END C=100, degree=2, gamma=0.01, kernel=rbf;, score=0.982 total time=   0.3s\n",
      "[CV 3/5] END C=100, degree=2, gamma=0.01, kernel=rbf;, score=0.978 total time=   0.3s\n",
      "[CV 4/5] END C=100, degree=2, gamma=0.01, kernel=rbf;, score=0.981 total time=   0.3s\n",
      "[CV 5/5] END C=100, degree=2, gamma=0.01, kernel=rbf;, score=0.990 total time=   0.3s\n",
      "[CV 1/5] END C=100, degree=2, gamma=0.01, kernel=linear;, score=0.977 total time=   0.3s\n",
      "[CV 2/5] END C=100, degree=2, gamma=0.01, kernel=linear;, score=0.983 total time=   0.3s\n",
      "[CV 3/5] END C=100, degree=2, gamma=0.01, kernel=linear;, score=0.977 total time=   0.3s\n",
      "[CV 4/5] END C=100, degree=2, gamma=0.01, kernel=linear;, score=0.977 total time=   0.3s\n",
      "[CV 5/5] END C=100, degree=2, gamma=0.01, kernel=linear;, score=0.988 total time=   0.3s\n",
      "[CV 1/5] END C=100, degree=2, gamma=0.001, kernel=rbf;, score=0.953 total time=   0.4s\n",
      "[CV 2/5] END C=100, degree=2, gamma=0.001, kernel=rbf;, score=0.970 total time=   0.4s\n",
      "[CV 3/5] END C=100, degree=2, gamma=0.001, kernel=rbf;, score=0.950 total time=   0.4s\n",
      "[CV 4/5] END C=100, degree=2, gamma=0.001, kernel=rbf;, score=0.950 total time=   0.4s\n",
      "[CV 5/5] END C=100, degree=2, gamma=0.001, kernel=rbf;, score=0.965 total time=   0.4s\n",
      "[CV 1/5] END C=100, degree=2, gamma=0.001, kernel=linear;, score=0.977 total time=   0.3s\n",
      "[CV 2/5] END C=100, degree=2, gamma=0.001, kernel=linear;, score=0.983 total time=   0.3s\n",
      "[CV 3/5] END C=100, degree=2, gamma=0.001, kernel=linear;, score=0.977 total time=   0.3s\n",
      "[CV 4/5] END C=100, degree=2, gamma=0.001, kernel=linear;, score=0.977 total time=   0.3s\n",
      "[CV 5/5] END C=100, degree=2, gamma=0.001, kernel=linear;, score=0.988 total time=   0.3s\n",
      "[CV 1/5] END C=100, degree=3, gamma=1, kernel=rbf;, score=0.972 total time=   0.9s\n",
      "[CV 2/5] END C=100, degree=3, gamma=1, kernel=rbf;, score=0.982 total time=   0.9s\n",
      "[CV 3/5] END C=100, degree=3, gamma=1, kernel=rbf;, score=0.967 total time=   0.9s\n",
      "[CV 4/5] END C=100, degree=3, gamma=1, kernel=rbf;, score=0.972 total time=   0.9s\n",
      "[CV 5/5] END C=100, degree=3, gamma=1, kernel=rbf;, score=0.982 total time=   1.0s\n",
      "[CV 1/5] END C=100, degree=3, gamma=1, kernel=linear;, score=0.977 total time=   0.3s\n",
      "[CV 2/5] END C=100, degree=3, gamma=1, kernel=linear;, score=0.983 total time=   0.3s\n",
      "[CV 3/5] END C=100, degree=3, gamma=1, kernel=linear;, score=0.977 total time=   0.3s\n",
      "[CV 4/5] END C=100, degree=3, gamma=1, kernel=linear;, score=0.977 total time=   0.3s\n",
      "[CV 5/5] END C=100, degree=3, gamma=1, kernel=linear;, score=0.988 total time=   0.3s\n",
      "[CV 1/5] END C=100, degree=3, gamma=0.1, kernel=rbf;, score=0.978 total time=   0.3s\n",
      "[CV 2/5] END C=100, degree=3, gamma=0.1, kernel=rbf;, score=0.983 total time=   0.3s\n",
      "[CV 3/5] END C=100, degree=3, gamma=0.1, kernel=rbf;, score=0.977 total time=   0.3s\n",
      "[CV 4/5] END C=100, degree=3, gamma=0.1, kernel=rbf;, score=0.977 total time=   0.3s\n",
      "[CV 5/5] END C=100, degree=3, gamma=0.1, kernel=rbf;, score=0.989 total time=   0.3s\n",
      "[CV 1/5] END C=100, degree=3, gamma=0.1, kernel=linear;, score=0.977 total time=   0.3s\n",
      "[CV 2/5] END C=100, degree=3, gamma=0.1, kernel=linear;, score=0.983 total time=   0.3s\n",
      "[CV 3/5] END C=100, degree=3, gamma=0.1, kernel=linear;, score=0.977 total time=   0.3s\n",
      "[CV 4/5] END C=100, degree=3, gamma=0.1, kernel=linear;, score=0.977 total time=   0.3s\n",
      "[CV 5/5] END C=100, degree=3, gamma=0.1, kernel=linear;, score=0.988 total time=   0.3s\n",
      "[CV 1/5] END C=100, degree=3, gamma=0.01, kernel=rbf;, score=0.979 total time=   0.3s\n",
      "[CV 2/5] END C=100, degree=3, gamma=0.01, kernel=rbf;, score=0.982 total time=   0.3s\n",
      "[CV 3/5] END C=100, degree=3, gamma=0.01, kernel=rbf;, score=0.978 total time=   0.3s\n",
      "[CV 4/5] END C=100, degree=3, gamma=0.01, kernel=rbf;, score=0.981 total time=   0.3s\n",
      "[CV 5/5] END C=100, degree=3, gamma=0.01, kernel=rbf;, score=0.990 total time=   0.3s\n",
      "[CV 1/5] END C=100, degree=3, gamma=0.01, kernel=linear;, score=0.977 total time=   0.3s\n",
      "[CV 2/5] END C=100, degree=3, gamma=0.01, kernel=linear;, score=0.983 total time=   0.3s\n",
      "[CV 3/5] END C=100, degree=3, gamma=0.01, kernel=linear;, score=0.977 total time=   0.3s\n",
      "[CV 4/5] END C=100, degree=3, gamma=0.01, kernel=linear;, score=0.977 total time=   0.3s\n",
      "[CV 5/5] END C=100, degree=3, gamma=0.01, kernel=linear;, score=0.988 total time=   0.3s\n",
      "[CV 1/5] END C=100, degree=3, gamma=0.001, kernel=rbf;, score=0.953 total time=   0.4s\n",
      "[CV 2/5] END C=100, degree=3, gamma=0.001, kernel=rbf;, score=0.970 total time=   0.4s\n",
      "[CV 3/5] END C=100, degree=3, gamma=0.001, kernel=rbf;, score=0.950 total time=   0.4s\n",
      "[CV 4/5] END C=100, degree=3, gamma=0.001, kernel=rbf;, score=0.950 total time=   0.4s\n",
      "[CV 5/5] END C=100, degree=3, gamma=0.001, kernel=rbf;, score=0.965 total time=   0.4s\n",
      "[CV 1/5] END C=100, degree=3, gamma=0.001, kernel=linear;, score=0.977 total time=   0.3s\n",
      "[CV 2/5] END C=100, degree=3, gamma=0.001, kernel=linear;, score=0.983 total time=   0.3s\n",
      "[CV 3/5] END C=100, degree=3, gamma=0.001, kernel=linear;, score=0.977 total time=   0.3s\n",
      "[CV 4/5] END C=100, degree=3, gamma=0.001, kernel=linear;, score=0.977 total time=   0.3s\n",
      "[CV 5/5] END C=100, degree=3, gamma=0.001, kernel=linear;, score=0.988 total time=   0.3s\n",
      "[CV 1/5] END C=100, degree=4, gamma=1, kernel=rbf;, score=0.972 total time=   0.9s\n",
      "[CV 2/5] END C=100, degree=4, gamma=1, kernel=rbf;, score=0.982 total time=   1.0s\n",
      "[CV 3/5] END C=100, degree=4, gamma=1, kernel=rbf;, score=0.967 total time=   0.9s\n",
      "[CV 4/5] END C=100, degree=4, gamma=1, kernel=rbf;, score=0.972 total time=   1.0s\n",
      "[CV 5/5] END C=100, degree=4, gamma=1, kernel=rbf;, score=0.982 total time=   1.0s\n",
      "[CV 1/5] END C=100, degree=4, gamma=1, kernel=linear;, score=0.977 total time=   0.3s\n",
      "[CV 2/5] END C=100, degree=4, gamma=1, kernel=linear;, score=0.983 total time=   0.3s\n",
      "[CV 3/5] END C=100, degree=4, gamma=1, kernel=linear;, score=0.977 total time=   0.3s\n",
      "[CV 4/5] END C=100, degree=4, gamma=1, kernel=linear;, score=0.977 total time=   0.3s\n",
      "[CV 5/5] END C=100, degree=4, gamma=1, kernel=linear;, score=0.988 total time=   0.3s\n",
      "[CV 1/5] END C=100, degree=4, gamma=0.1, kernel=rbf;, score=0.978 total time=   0.4s\n",
      "[CV 2/5] END C=100, degree=4, gamma=0.1, kernel=rbf;, score=0.983 total time=   0.4s\n",
      "[CV 3/5] END C=100, degree=4, gamma=0.1, kernel=rbf;, score=0.977 total time=   0.4s\n",
      "[CV 4/5] END C=100, degree=4, gamma=0.1, kernel=rbf;, score=0.977 total time=   0.4s\n",
      "[CV 5/5] END C=100, degree=4, gamma=0.1, kernel=rbf;, score=0.989 total time=   0.4s\n",
      "[CV 1/5] END C=100, degree=4, gamma=0.1, kernel=linear;, score=0.977 total time=   0.3s\n",
      "[CV 2/5] END C=100, degree=4, gamma=0.1, kernel=linear;, score=0.983 total time=   0.3s\n",
      "[CV 3/5] END C=100, degree=4, gamma=0.1, kernel=linear;, score=0.977 total time=   0.3s\n",
      "[CV 4/5] END C=100, degree=4, gamma=0.1, kernel=linear;, score=0.977 total time=   0.3s\n",
      "[CV 5/5] END C=100, degree=4, gamma=0.1, kernel=linear;, score=0.988 total time=   0.3s\n",
      "[CV 1/5] END C=100, degree=4, gamma=0.01, kernel=rbf;, score=0.979 total time=   0.3s\n",
      "[CV 2/5] END C=100, degree=4, gamma=0.01, kernel=rbf;, score=0.982 total time=   0.3s\n",
      "[CV 3/5] END C=100, degree=4, gamma=0.01, kernel=rbf;, score=0.978 total time=   0.3s\n",
      "[CV 4/5] END C=100, degree=4, gamma=0.01, kernel=rbf;, score=0.981 total time=   0.3s\n",
      "[CV 5/5] END C=100, degree=4, gamma=0.01, kernel=rbf;, score=0.990 total time=   0.3s\n",
      "[CV 1/5] END C=100, degree=4, gamma=0.01, kernel=linear;, score=0.977 total time=   0.3s\n",
      "[CV 2/5] END C=100, degree=4, gamma=0.01, kernel=linear;, score=0.983 total time=   0.3s\n",
      "[CV 3/5] END C=100, degree=4, gamma=0.01, kernel=linear;, score=0.977 total time=   0.3s\n",
      "[CV 4/5] END C=100, degree=4, gamma=0.01, kernel=linear;, score=0.977 total time=   0.3s\n",
      "[CV 5/5] END C=100, degree=4, gamma=0.01, kernel=linear;, score=0.988 total time=   0.3s\n",
      "[CV 1/5] END C=100, degree=4, gamma=0.001, kernel=rbf;, score=0.953 total time=   0.4s\n",
      "[CV 2/5] END C=100, degree=4, gamma=0.001, kernel=rbf;, score=0.970 total time=   0.4s\n",
      "[CV 3/5] END C=100, degree=4, gamma=0.001, kernel=rbf;, score=0.950 total time=   0.4s\n",
      "[CV 4/5] END C=100, degree=4, gamma=0.001, kernel=rbf;, score=0.950 total time=   0.4s\n",
      "[CV 5/5] END C=100, degree=4, gamma=0.001, kernel=rbf;, score=0.965 total time=   0.4s\n",
      "[CV 1/5] END C=100, degree=4, gamma=0.001, kernel=linear;, score=0.977 total time=   0.3s\n",
      "[CV 2/5] END C=100, degree=4, gamma=0.001, kernel=linear;, score=0.983 total time=   0.3s\n",
      "[CV 3/5] END C=100, degree=4, gamma=0.001, kernel=linear;, score=0.977 total time=   0.3s\n",
      "[CV 4/5] END C=100, degree=4, gamma=0.001, kernel=linear;, score=0.977 total time=   0.3s\n",
      "[CV 5/5] END C=100, degree=4, gamma=0.001, kernel=linear;, score=0.988 total time=   0.3s\n"
     ]
    },
    {
     "data": {
      "text/html": [
       "<style>#sk-container-id-1 {color: black;}#sk-container-id-1 pre{padding: 0;}#sk-container-id-1 div.sk-toggleable {background-color: white;}#sk-container-id-1 label.sk-toggleable__label {cursor: pointer;display: block;width: 100%;margin-bottom: 0;padding: 0.3em;box-sizing: border-box;text-align: center;}#sk-container-id-1 label.sk-toggleable__label-arrow:before {content: \"▸\";float: left;margin-right: 0.25em;color: #696969;}#sk-container-id-1 label.sk-toggleable__label-arrow:hover:before {color: black;}#sk-container-id-1 div.sk-estimator:hover label.sk-toggleable__label-arrow:before {color: black;}#sk-container-id-1 div.sk-toggleable__content {max-height: 0;max-width: 0;overflow: hidden;text-align: left;background-color: #f0f8ff;}#sk-container-id-1 div.sk-toggleable__content pre {margin: 0.2em;color: black;border-radius: 0.25em;background-color: #f0f8ff;}#sk-container-id-1 input.sk-toggleable__control:checked~div.sk-toggleable__content {max-height: 200px;max-width: 100%;overflow: auto;}#sk-container-id-1 input.sk-toggleable__control:checked~label.sk-toggleable__label-arrow:before {content: \"▾\";}#sk-container-id-1 div.sk-estimator input.sk-toggleable__control:checked~label.sk-toggleable__label {background-color: #d4ebff;}#sk-container-id-1 div.sk-label input.sk-toggleable__control:checked~label.sk-toggleable__label {background-color: #d4ebff;}#sk-container-id-1 input.sk-hidden--visually {border: 0;clip: rect(1px 1px 1px 1px);clip: rect(1px, 1px, 1px, 1px);height: 1px;margin: -1px;overflow: hidden;padding: 0;position: absolute;width: 1px;}#sk-container-id-1 div.sk-estimator {font-family: monospace;background-color: #f0f8ff;border: 1px dotted black;border-radius: 0.25em;box-sizing: border-box;margin-bottom: 0.5em;}#sk-container-id-1 div.sk-estimator:hover {background-color: #d4ebff;}#sk-container-id-1 div.sk-parallel-item::after {content: \"\";width: 100%;border-bottom: 1px solid gray;flex-grow: 1;}#sk-container-id-1 div.sk-label:hover label.sk-toggleable__label {background-color: #d4ebff;}#sk-container-id-1 div.sk-serial::before {content: \"\";position: absolute;border-left: 1px solid gray;box-sizing: border-box;top: 0;bottom: 0;left: 50%;z-index: 0;}#sk-container-id-1 div.sk-serial {display: flex;flex-direction: column;align-items: center;background-color: white;padding-right: 0.2em;padding-left: 0.2em;position: relative;}#sk-container-id-1 div.sk-item {position: relative;z-index: 1;}#sk-container-id-1 div.sk-parallel {display: flex;align-items: stretch;justify-content: center;background-color: white;position: relative;}#sk-container-id-1 div.sk-item::before, #sk-container-id-1 div.sk-parallel-item::before {content: \"\";position: absolute;border-left: 1px solid gray;box-sizing: border-box;top: 0;bottom: 0;left: 50%;z-index: -1;}#sk-container-id-1 div.sk-parallel-item {display: flex;flex-direction: column;z-index: 1;position: relative;background-color: white;}#sk-container-id-1 div.sk-parallel-item:first-child::after {align-self: flex-end;width: 50%;}#sk-container-id-1 div.sk-parallel-item:last-child::after {align-self: flex-start;width: 50%;}#sk-container-id-1 div.sk-parallel-item:only-child::after {width: 0;}#sk-container-id-1 div.sk-dashed-wrapped {border: 1px dashed gray;margin: 0 0.4em 0.5em 0.4em;box-sizing: border-box;padding-bottom: 0.4em;background-color: white;}#sk-container-id-1 div.sk-label label {font-family: monospace;font-weight: bold;display: inline-block;line-height: 1.2em;}#sk-container-id-1 div.sk-label-container {text-align: center;}#sk-container-id-1 div.sk-container {/* jupyter's `normalize.less` sets `[hidden] { display: none; }` but bootstrap.min.css set `[hidden] { display: none !important; }` so we also need the `!important` here to be able to override the default hidden behavior on the sphinx rendered scikit-learn.org. See: https://github.com/scikit-learn/scikit-learn/issues/21755 */display: inline-block !important;position: relative;}#sk-container-id-1 div.sk-text-repr-fallback {display: none;}</style><div id=\"sk-container-id-1\" class=\"sk-top-container\"><div class=\"sk-text-repr-fallback\"><pre>Pipeline(steps=[(&#x27;encoder&#x27;, TfidfVectorizer()),\n",
       "                (&#x27;clf&#x27;,\n",
       "                 GridSearchCV(estimator=SVC(),\n",
       "                              param_grid={&#x27;C&#x27;: [0.1, 1, 10, 100],\n",
       "                                          &#x27;degree&#x27;: [2, 3, 4],\n",
       "                                          &#x27;gamma&#x27;: [1, 0.1, 0.01, 0.001],\n",
       "                                          &#x27;kernel&#x27;: [&#x27;rbf&#x27;, &#x27;linear&#x27;]},\n",
       "                              verbose=3))])</pre><b>In a Jupyter environment, please rerun this cell to show the HTML representation or trust the notebook. <br />On GitHub, the HTML representation is unable to render, please try loading this page with nbviewer.org.</b></div><div class=\"sk-container\" hidden><div class=\"sk-item sk-dashed-wrapped\"><div class=\"sk-label-container\"><div class=\"sk-label sk-toggleable\"><input class=\"sk-toggleable__control sk-hidden--visually\" id=\"sk-estimator-id-1\" type=\"checkbox\" ><label for=\"sk-estimator-id-1\" class=\"sk-toggleable__label sk-toggleable__label-arrow\">Pipeline</label><div class=\"sk-toggleable__content\"><pre>Pipeline(steps=[(&#x27;encoder&#x27;, TfidfVectorizer()),\n",
       "                (&#x27;clf&#x27;,\n",
       "                 GridSearchCV(estimator=SVC(),\n",
       "                              param_grid={&#x27;C&#x27;: [0.1, 1, 10, 100],\n",
       "                                          &#x27;degree&#x27;: [2, 3, 4],\n",
       "                                          &#x27;gamma&#x27;: [1, 0.1, 0.01, 0.001],\n",
       "                                          &#x27;kernel&#x27;: [&#x27;rbf&#x27;, &#x27;linear&#x27;]},\n",
       "                              verbose=3))])</pre></div></div></div><div class=\"sk-serial\"><div class=\"sk-item\"><div class=\"sk-estimator sk-toggleable\"><input class=\"sk-toggleable__control sk-hidden--visually\" id=\"sk-estimator-id-2\" type=\"checkbox\" ><label for=\"sk-estimator-id-2\" class=\"sk-toggleable__label sk-toggleable__label-arrow\">TfidfVectorizer</label><div class=\"sk-toggleable__content\"><pre>TfidfVectorizer()</pre></div></div></div><div class=\"sk-item sk-dashed-wrapped\"><div class=\"sk-label-container\"><div class=\"sk-label sk-toggleable\"><input class=\"sk-toggleable__control sk-hidden--visually\" id=\"sk-estimator-id-3\" type=\"checkbox\" ><label for=\"sk-estimator-id-3\" class=\"sk-toggleable__label sk-toggleable__label-arrow\">clf: GridSearchCV</label><div class=\"sk-toggleable__content\"><pre>GridSearchCV(estimator=SVC(),\n",
       "             param_grid={&#x27;C&#x27;: [0.1, 1, 10, 100], &#x27;degree&#x27;: [2, 3, 4],\n",
       "                         &#x27;gamma&#x27;: [1, 0.1, 0.01, 0.001],\n",
       "                         &#x27;kernel&#x27;: [&#x27;rbf&#x27;, &#x27;linear&#x27;]},\n",
       "             verbose=3)</pre></div></div></div><div class=\"sk-parallel\"><div class=\"sk-parallel-item\"><div class=\"sk-item\"><div class=\"sk-label-container\"><div class=\"sk-label sk-toggleable\"><input class=\"sk-toggleable__control sk-hidden--visually\" id=\"sk-estimator-id-4\" type=\"checkbox\" ><label for=\"sk-estimator-id-4\" class=\"sk-toggleable__label sk-toggleable__label-arrow\">estimator: SVC</label><div class=\"sk-toggleable__content\"><pre>SVC()</pre></div></div></div><div class=\"sk-serial\"><div class=\"sk-item\"><div class=\"sk-estimator sk-toggleable\"><input class=\"sk-toggleable__control sk-hidden--visually\" id=\"sk-estimator-id-5\" type=\"checkbox\" ><label for=\"sk-estimator-id-5\" class=\"sk-toggleable__label sk-toggleable__label-arrow\">SVC</label><div class=\"sk-toggleable__content\"><pre>SVC()</pre></div></div></div></div></div></div></div></div></div></div></div></div>"
      ],
      "text/plain": [
       "Pipeline(steps=[('encoder', TfidfVectorizer()),\n",
       "                ('clf',\n",
       "                 GridSearchCV(estimator=SVC(),\n",
       "                              param_grid={'C': [0.1, 1, 10, 100],\n",
       "                                          'degree': [2, 3, 4],\n",
       "                                          'gamma': [1, 0.1, 0.01, 0.001],\n",
       "                                          'kernel': ['rbf', 'linear']},\n",
       "                              verbose=3))])"
      ]
     },
     "execution_count": 21,
     "metadata": {},
     "output_type": "execute_result"
    }
   ],
   "source": [
    "pipe.fit(X_train,y_train)"
   ]
  },
  {
   "cell_type": "code",
   "execution_count": 22,
   "metadata": {},
   "outputs": [
    {
     "name": "stdout",
     "output_type": "stream",
     "text": [
      "              precision    recall  f1-score   support\n",
      "\n",
      "           0       1.00      0.98      0.99       917\n",
      "           1       0.89      0.99      0.94       117\n",
      "\n",
      "    accuracy                           0.98      1034\n",
      "   macro avg       0.94      0.99      0.96      1034\n",
      "weighted avg       0.99      0.98      0.98      1034\n",
      "\n"
     ]
    }
   ],
   "source": [
    "y_pred = pipe.predict(X_test)\n",
    "print(classification_report(y_pred,y_test))"
   ]
  },
  {
   "cell_type": "code",
   "execution_count": 23,
   "metadata": {},
   "outputs": [
    {
     "data": {
      "image/png": "[encoded data removed]",
      "text/plain": [
       "<Figure size 640x480 with 2 Axes>"
      ]
     },
     "metadata": {},
     "output_type": "display_data"
    }
   ],
   "source": [
    "cm = confusion_matrix(y_test, y_pred, labels=pipe.classes_)\n",
    "disp = ConfusionMatrixDisplay(confusion_matrix=cm,display_labels=pipe.classes_)\n",
    "disp.plot()\n",
    "plt.show()"
   ]
  },
  {
   "cell_type": "code",
   "execution_count": 24,
   "metadata": {},
   "outputs": [
    {
     "name": "stdout",
     "output_type": "stream",
     "text": [
      "0.9845261121856866\n"
     ]
    }
   ],
   "source": [
    "print(accuracy_score(y_pred,y_test))"
   ]
  },
  {
   "cell_type": "code",
   "execution_count": 25,
   "metadata": {},
   "outputs": [
    {
     "name": "stdout",
     "output_type": "stream",
     "text": [
      "Spam\n"
     ]
    }
   ],
   "source": [
    "m = [\"Congratulations! You've won a $500 Amazon gift card. Claim it here [Link].\"]\n",
    "label = (\"Spam\" if pipe.predict(m)[0] else \"Not spam\")\n",
    "print(label)"
   ]
  },
  {
   "cell_type": "code",
   "execution_count": 26,
   "metadata": {},
   "outputs": [],
   "source": [
    "# Saving the model using pickle\n",
    "import pickle"
   ]
  },
  {
   "cell_type": "code",
   "execution_count": 27,
   "metadata": {},
   "outputs": [],
   "source": [
    "pickle.dump(pipe,open(\"saved_model.pkl\",'wb'))"
   ]
  },
  {
   "cell_type": "code",
   "execution_count": 28,
   "metadata": {},
   "outputs": [],
   "source": [
    "# You can use this model in a different file\n",
    "model1 = pickle.load(open(\"saved_model.pkl\",'rb'))"
   ]
  },
  {
   "cell_type": "code",
   "execution_count": 29,
   "metadata": {},
   "outputs": [
    {
     "name": "stdout",
     "output_type": "stream",
     "text": [
      "Not spam\n"
     ]
    }
   ],
   "source": [
    "m = [\"Hello! Just a reminder about our team meeting tomorrow at 10 AM. Looking forward to discussing the upcoming project.\"]\n",
    "label = (\"Spam\" if model1.predict(m)[0] else \"Not spam\")\n",
    "print(label)"
   ]
  },
  {
   "cell_type": "code",
   "execution_count": 30,
   "metadata": {},
   "outputs": [],
   "source": [
    "# Saving the model using joblib\n",
    "import joblib"
   ]
  },
  {
   "cell_type": "code",
   "execution_count": 31,
   "metadata": {},
   "outputs": [
    {
     "data": {
      "text/plain": [
       "['saved_model.joblib']"
      ]
     },
     "execution_count": 31,
     "metadata": {},
     "output_type": "execute_result"
    }
   ],
   "source": [
    "joblib.dump(pipe,\"saved_model.joblib\")"
   ]
  },
  {
   "cell_type": "code",
   "execution_count": 32,
   "metadata": {},
   "outputs": [],
   "source": [
    "# You can use this model in a different file\n",
    "model2 = joblib.load(\"saved_model.joblib\")"
   ]
  },
  {
   "cell_type": "code",
   "execution_count": 33,
   "metadata": {},
   "outputs": [
    {
     "name": "stdout",
     "output_type": "stream",
     "text": [
      "Spam\n"
     ]
    }
   ],
   "source": [
    "m = [\"ACTION REQUIRED. Please verify your Bank of America account information to avoid a hold on your account. Click here to confirm: [Link\"]\n",
    "label = (\"Spam\" if model2.predict(m)[0] else \"Not spam\")\n",
    "print(label)"
   ]
  }
 ],
 "metadata": {
  "kernelspec": {
   "display_name": "Codingclub",
   "language": "python",
   "name": "python3"
  },
  "language_info": {
   "codemirror_mode": {
    "name": "ipython",
    "version": 3
   },
   "file_extension": ".py",
   "mimetype": "text/x-python",
   "name": "python",
   "nbconvert_exporter": "python",
   "pygments_lexer": "ipython3",
   "version": "3.9.18"
  }
 },
 "nbformat": 4,
 "nbformat_minor": 2
}
